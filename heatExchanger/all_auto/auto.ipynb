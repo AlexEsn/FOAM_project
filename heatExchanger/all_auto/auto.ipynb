{
 "cells": [
  {
   "cell_type": "code",
   "execution_count": 2,
   "metadata": {},
   "outputs": [],
   "source": [
    "import subprocess\n",
    "import shutil\n",
    "from itertools import product\n",
    "from multiprocessing import Manager, Pool"
   ]
  },
  {
   "cell_type": "code",
   "execution_count": 3,
   "metadata": {},
   "outputs": [],
   "source": [
    "# Параметры\n",
    "min_value = 0\n",
    "step = 1\n",
    "max_value = 20\n",
    "\n",
    "salome_executable = \"~/SALOME-9.11.0-native-UB20.04-SRC/binsalome\"\n",
    "base_path = '.'\n",
    "python_script = base_path + \"/autogenerate_template.py\"\n",
    "core_num = 10"
   ]
  },
  {
   "cell_type": "code",
   "execution_count": 4,
   "metadata": {},
   "outputs": [],
   "source": [
    "def run_simulation(shift_first_cylinder, shift_second_cylinder, shift_third_cylinder, all_data):\n",
    "    new_name = f\"_{shift_first_cylinder}_{shift_second_cylinder}_{shift_third_cylinder}\"\n",
    "\n",
    "    source_folder = f\"{base_path}/case\"\n",
    "    destination_folder = f\"{base_path}/case{new_name}\"\n",
    "\n",
    "    try:\n",
    "        # Копирование кейса\n",
    "        shutil.copytree(source_folder, destination_folder)\n",
    "        print(\n",
    "            f\"Папка {source_folder} успешно скопирована в {destination_folder}\")\n",
    "        # Команда для запуска SALOME и выполнения питон-скрипта внутри SALOME\n",
    "        command = f'{salome_executable} -t python {python_script} args:{shift_first_cylinder},{shift_second_cylinder},{shift_third_cylinder},{destination_folder}/mesh.unv'\n",
    "        print(command)\n",
    "        print(\"Генерация сетки\")\n",
    "        # Запуск команды с помощью subprocess\n",
    "        subprocess.run(command, shell=True)\n",
    "    except Exception as e:\n",
    "        print(f\"Произошла ошибка при копировании или расчете сетки: {e}\")\n",
    "\n",
    "    print(\"Запуск расчета\")\n",
    "\n",
    "    bash_script_path = f\"./case{new_name}/Allmesh >> /dev/null\"\n",
    "\n",
    "    try:\n",
    "        result = subprocess.check_output(\n",
    "            bash_script_path, shell=True, text=True)\n",
    "        print(result)\n",
    "        print(\"Расчет сетки успешно выполнен.\")\n",
    "    except subprocess.CalledProcessError as e:\n",
    "        print(f\"Произошла ошибка при выполнении расчета сетки: {e}\")\n",
    "    except Exception as e:\n",
    "        print(f\"Произошла неожиданная ошибка: {e}\")\n",
    "\n",
    "    bash_script_path = f\"./case{new_name}/Allrun >> /dev/null\"\n",
    "\n",
    "    try:\n",
    "        result = subprocess.check_output(\n",
    "            bash_script_path, shell=True, text=True)\n",
    "        print(result)\n",
    "        print(\"Расчет кейса успешно выполнен.\")\n",
    "        print(\"Ищем последнее значение\")\n",
    "        file_path = f\"{base_path}/case{new_name}/postProcessing/heater/cellMaxHeaterT/0/volFieldValue.dat\"\n",
    "\n",
    "        # Пытаемся открыть файл\n",
    "        try:\n",
    "            with open(file_path, 'r') as file:\n",
    "                lines = file.readlines()\n",
    "                # Ищем строку с последним значением\n",
    "                for line in reversed(lines):\n",
    "                    if line.strip():\n",
    "                        last_value = float(line.split()[-1])\n",
    "                        break\n",
    "                print(f\"Последнее значение: {last_value:.6e}\")\n",
    "\n",
    "                # Добавляем значение в разделяемый словарь\n",
    "                all_data[new_name] = last_value\n",
    "        except FileNotFoundError:\n",
    "            print(f\"Файл '{file_path}' не найден.\")\n",
    "        except Exception as e:\n",
    "            print(f\"Произошла ошибка: {str(e)}\")\n",
    "    except subprocess.CalledProcessError as e:\n",
    "        print(f\"Произошла ошибка при выполнении расчета кейса: {e}\")\n",
    "    except Exception as e:\n",
    "        print(f\"Произошла неожиданная ошибка: {e}\")"
   ]
  },
  {
   "cell_type": "code",
   "execution_count": 5,
   "metadata": {},
   "outputs": [
    {
     "name": "stdout",
     "output_type": "stream",
     "text": [
      "Произошла ошибка при копировании или расчете сетки: [Errno 17] File exists: './case_3_11_0'Произошла ошибка при копировании или расчете сетки: [Errno 17] File exists: './case_14_19_0'\n",
      "Произошла ошибка при копировании или расчете сетки: [Errno 17] File exists: './case_17_11_0'Произошла ошибка при копировании или расчете сетки: [Errno 17] File exists: './case_5_19_0'Запуск расчета\n",
      "\n",
      "Произошла ошибка при копировании или расчете сетки: [Errno 17] File exists: './case_14_10_0'\n",
      "Запуск расчетаЗапуск расчета\n",
      "\n",
      "\n",
      "Запуск расчета\n",
      "Запуск расчета\n",
      "\n"
     ]
    },
    {
     "name": "stdout",
     "output_type": "stream",
     "text": [
      "\n",
      "Расчет сетки успешно выполнен.\n",
      "\n",
      "Расчет сетки успешно выполнен.\n",
      "\n",
      "Расчет сетки успешно выполнен.\n",
      "\n",
      "Расчет сетки успешно выполнен.\n"
     ]
    },
    {
     "ename": "KeyboardInterrupt",
     "evalue": "",
     "output_type": "error",
     "traceback": [
      "\u001b[0;31m---------------------------------------------------------------------------\u001b[0m",
      "\u001b[0;31mKeyboardInterrupt\u001b[0m                         Traceback (most recent call last)",
      "\u001b[1;32m/home/alexesn/FOAM_project/heatExchanger/all_auto/auto.ipynb Cell 4\u001b[0m line \u001b[0;36m1\n\u001b[1;32m     <a href='vscode-notebook-cell://wsl%2Bubuntu/home/alexesn/FOAM_project/heatExchanger/all_auto/auto.ipynb#W3sdnNjb2RlLXJlbW90ZQ%3D%3D?line=10'>11</a>\u001b[0m \u001b[39m# Создаем и запускаем отдельный процесс для каждой комбинации\u001b[39;00m\n\u001b[1;32m     <a href='vscode-notebook-cell://wsl%2Bubuntu/home/alexesn/FOAM_project/heatExchanger/all_auto/auto.ipynb#W3sdnNjb2RlLXJlbW90ZQ%3D%3D?line=11'>12</a>\u001b[0m \u001b[39mwith\u001b[39;00m Pool(core_num) \u001b[39mas\u001b[39;00m pool:\n\u001b[0;32m---> <a href='vscode-notebook-cell://wsl%2Bubuntu/home/alexesn/FOAM_project/heatExchanger/all_auto/auto.ipynb#W3sdnNjb2RlLXJlbW90ZQ%3D%3D?line=12'>13</a>\u001b[0m     pool\u001b[39m.\u001b[39;49mstarmap(run_simulation, [(s1, s2, s3, all_data)\n\u001b[1;32m     <a href='vscode-notebook-cell://wsl%2Bubuntu/home/alexesn/FOAM_project/heatExchanger/all_auto/auto.ipynb#W3sdnNjb2RlLXJlbW90ZQ%3D%3D?line=13'>14</a>\u001b[0m                  \u001b[39mfor\u001b[39;49;00m s1, s2, s3 \u001b[39min\u001b[39;49;00m combinations_with_repeats])\n\u001b[1;32m     <a href='vscode-notebook-cell://wsl%2Bubuntu/home/alexesn/FOAM_project/heatExchanger/all_auto/auto.ipynb#W3sdnNjb2RlLXJlbW90ZQ%3D%3D?line=14'>15</a>\u001b[0m     pool\u001b[39m.\u001b[39mjoin\n\u001b[1;32m     <a href='vscode-notebook-cell://wsl%2Bubuntu/home/alexesn/FOAM_project/heatExchanger/all_auto/auto.ipynb#W3sdnNjb2RlLXJlbW90ZQ%3D%3D?line=16'>17</a>\u001b[0m \u001b[39m# Выводим результаты из разделяемого словаря\u001b[39;00m\n",
      "File \u001b[0;32m/usr/lib/python3.8/multiprocessing/pool.py:372\u001b[0m, in \u001b[0;36mPool.starmap\u001b[0;34m(self, func, iterable, chunksize)\u001b[0m\n\u001b[1;32m    366\u001b[0m \u001b[39mdef\u001b[39;00m \u001b[39mstarmap\u001b[39m(\u001b[39mself\u001b[39m, func, iterable, chunksize\u001b[39m=\u001b[39m\u001b[39mNone\u001b[39;00m):\n\u001b[1;32m    367\u001b[0m     \u001b[39m'''\u001b[39;00m\n\u001b[1;32m    368\u001b[0m \u001b[39m    Like `map()` method but the elements of the `iterable` are expected to\u001b[39;00m\n\u001b[1;32m    369\u001b[0m \u001b[39m    be iterables as well and will be unpacked as arguments. Hence\u001b[39;00m\n\u001b[1;32m    370\u001b[0m \u001b[39m    `func` and (a, b) becomes func(a, b).\u001b[39;00m\n\u001b[1;32m    371\u001b[0m \u001b[39m    '''\u001b[39;00m\n\u001b[0;32m--> 372\u001b[0m     \u001b[39mreturn\u001b[39;00m \u001b[39mself\u001b[39;49m\u001b[39m.\u001b[39;49m_map_async(func, iterable, starmapstar, chunksize)\u001b[39m.\u001b[39;49mget()\n",
      "File \u001b[0;32m/usr/lib/python3.8/multiprocessing/pool.py:765\u001b[0m, in \u001b[0;36mApplyResult.get\u001b[0;34m(self, timeout)\u001b[0m\n\u001b[1;32m    764\u001b[0m \u001b[39mdef\u001b[39;00m \u001b[39mget\u001b[39m(\u001b[39mself\u001b[39m, timeout\u001b[39m=\u001b[39m\u001b[39mNone\u001b[39;00m):\n\u001b[0;32m--> 765\u001b[0m     \u001b[39mself\u001b[39;49m\u001b[39m.\u001b[39;49mwait(timeout)\n\u001b[1;32m    766\u001b[0m     \u001b[39mif\u001b[39;00m \u001b[39mnot\u001b[39;00m \u001b[39mself\u001b[39m\u001b[39m.\u001b[39mready():\n\u001b[1;32m    767\u001b[0m         \u001b[39mraise\u001b[39;00m \u001b[39mTimeoutError\u001b[39;00m\n",
      "File \u001b[0;32m/usr/lib/python3.8/multiprocessing/pool.py:762\u001b[0m, in \u001b[0;36mApplyResult.wait\u001b[0;34m(self, timeout)\u001b[0m\n\u001b[1;32m    761\u001b[0m \u001b[39mdef\u001b[39;00m \u001b[39mwait\u001b[39m(\u001b[39mself\u001b[39m, timeout\u001b[39m=\u001b[39m\u001b[39mNone\u001b[39;00m):\n\u001b[0;32m--> 762\u001b[0m     \u001b[39mself\u001b[39;49m\u001b[39m.\u001b[39;49m_event\u001b[39m.\u001b[39;49mwait(timeout)\n",
      "File \u001b[0;32m/usr/lib/python3.8/threading.py:558\u001b[0m, in \u001b[0;36mEvent.wait\u001b[0;34m(self, timeout)\u001b[0m\n\u001b[1;32m    556\u001b[0m signaled \u001b[39m=\u001b[39m \u001b[39mself\u001b[39m\u001b[39m.\u001b[39m_flag\n\u001b[1;32m    557\u001b[0m \u001b[39mif\u001b[39;00m \u001b[39mnot\u001b[39;00m signaled:\n\u001b[0;32m--> 558\u001b[0m     signaled \u001b[39m=\u001b[39m \u001b[39mself\u001b[39;49m\u001b[39m.\u001b[39;49m_cond\u001b[39m.\u001b[39;49mwait(timeout)\n\u001b[1;32m    559\u001b[0m \u001b[39mreturn\u001b[39;00m signaled\n",
      "File \u001b[0;32m/usr/lib/python3.8/threading.py:302\u001b[0m, in \u001b[0;36mCondition.wait\u001b[0;34m(self, timeout)\u001b[0m\n\u001b[1;32m    300\u001b[0m \u001b[39mtry\u001b[39;00m:    \u001b[39m# restore state no matter what (e.g., KeyboardInterrupt)\u001b[39;00m\n\u001b[1;32m    301\u001b[0m     \u001b[39mif\u001b[39;00m timeout \u001b[39mis\u001b[39;00m \u001b[39mNone\u001b[39;00m:\n\u001b[0;32m--> 302\u001b[0m         waiter\u001b[39m.\u001b[39;49macquire()\n\u001b[1;32m    303\u001b[0m         gotit \u001b[39m=\u001b[39m \u001b[39mTrue\u001b[39;00m\n\u001b[1;32m    304\u001b[0m     \u001b[39melse\u001b[39;00m:\n",
      "\u001b[0;31mKeyboardInterrupt\u001b[0m: "
     ]
    }
   ],
   "source": [
    "# Создаем разделяемый словарь для сбора результатов от каждого процесса\n",
    "all_data=None\n",
    "with Manager() as manager:\n",
    "    all_data = manager.dict()\n",
    "\n",
    "    # Создаем список с возможными значениями\n",
    "    values = [i for i in range(min_value, max_value + step, step)]\n",
    "    # Получаем все возможные комбинации с повторениями из двух чисел\n",
    "    combinations_with_repeats = [(3, 11, 0), (14, 19, 0), (5, 19, 0), (17, 11, 0), (14, 10, 0)]\n",
    "\n",
    "    # Создаем и запускаем отдельный процесс для каждой комбинации\n",
    "    with Pool(core_num) as pool:\n",
    "        pool.starmap(run_simulation, [(s1, s2, s3, all_data)\n",
    "                     for s1, s2, s3 in combinations_with_repeats])\n",
    "        pool.join\n",
    "\n",
    "    # Выводим результаты из разделяемого словаря\n",
    "    print(all_data)\n",
    "    print(len(all_data))"
   ]
  },
  {
   "cell_type": "code",
   "execution_count": 7,
   "metadata": {},
   "outputs": [
    {
     "name": "stdout",
     "output_type": "stream",
     "text": [
      "Папка ./case успешно скопирована в ./case_7_19_0\n",
      "~/SALOME-9.11.0-native-UB20.04-SRC/binsalome -t python ./autogenerate_template.py args:7,19,0,./case_7_19_0/mesh.unv\n",
      "Генерация сетки\n",
      "Args: ['/home/alexesn/FOAM_project/heatExchanger/all_auto/autogenerate_template.py', '7', '19', '0', './case_7_19_0/mesh.unv']\n",
      "Запуск расчета\n",
      "\n",
      "Расчет сетки успешно выполнен.\n"
     ]
    },
    {
     "ename": "KeyboardInterrupt",
     "evalue": "",
     "output_type": "error",
     "traceback": [
      "\u001b[0;31m---------------------------------------------------------------------------\u001b[0m",
      "\u001b[0;31mKeyboardInterrupt\u001b[0m                         Traceback (most recent call last)",
      "\u001b[1;32m/home/alexesn/FOAM_project/heatExchanger/all_auto/auto.ipynb Cell 5\u001b[0m line \u001b[0;36m1\n\u001b[1;32m     <a href='vscode-notebook-cell://wsl%2Bubuntu/home/alexesn/FOAM_project/heatExchanger/all_auto/auto.ipynb#W4sdnNjb2RlLXJlbW90ZQ%3D%3D?line=10'>11</a>\u001b[0m \u001b[39m# Создаем и запускаем отдельный процесс для каждой комбинации\u001b[39;00m\n\u001b[1;32m     <a href='vscode-notebook-cell://wsl%2Bubuntu/home/alexesn/FOAM_project/heatExchanger/all_auto/auto.ipynb#W4sdnNjb2RlLXJlbW90ZQ%3D%3D?line=11'>12</a>\u001b[0m \u001b[39mwith\u001b[39;00m Pool(core_num) \u001b[39mas\u001b[39;00m pool:\n\u001b[0;32m---> <a href='vscode-notebook-cell://wsl%2Bubuntu/home/alexesn/FOAM_project/heatExchanger/all_auto/auto.ipynb#W4sdnNjb2RlLXJlbW90ZQ%3D%3D?line=12'>13</a>\u001b[0m     pool\u001b[39m.\u001b[39;49mstarmap(run_simulation, [(s1, s2, s3, all_data)\n\u001b[1;32m     <a href='vscode-notebook-cell://wsl%2Bubuntu/home/alexesn/FOAM_project/heatExchanger/all_auto/auto.ipynb#W4sdnNjb2RlLXJlbW90ZQ%3D%3D?line=13'>14</a>\u001b[0m                  \u001b[39mfor\u001b[39;49;00m s1, s2, s3 \u001b[39min\u001b[39;49;00m combinations_with_repeats])\n\u001b[1;32m     <a href='vscode-notebook-cell://wsl%2Bubuntu/home/alexesn/FOAM_project/heatExchanger/all_auto/auto.ipynb#W4sdnNjb2RlLXJlbW90ZQ%3D%3D?line=14'>15</a>\u001b[0m     pool\u001b[39m.\u001b[39mjoin\n\u001b[1;32m     <a href='vscode-notebook-cell://wsl%2Bubuntu/home/alexesn/FOAM_project/heatExchanger/all_auto/auto.ipynb#W4sdnNjb2RlLXJlbW90ZQ%3D%3D?line=16'>17</a>\u001b[0m \u001b[39m# Выводим результаты из разделяемого словаря\u001b[39;00m\n",
      "File \u001b[0;32m/usr/lib/python3.8/multiprocessing/pool.py:372\u001b[0m, in \u001b[0;36mPool.starmap\u001b[0;34m(self, func, iterable, chunksize)\u001b[0m\n\u001b[1;32m    366\u001b[0m \u001b[39mdef\u001b[39;00m \u001b[39mstarmap\u001b[39m(\u001b[39mself\u001b[39m, func, iterable, chunksize\u001b[39m=\u001b[39m\u001b[39mNone\u001b[39;00m):\n\u001b[1;32m    367\u001b[0m     \u001b[39m'''\u001b[39;00m\n\u001b[1;32m    368\u001b[0m \u001b[39m    Like `map()` method but the elements of the `iterable` are expected to\u001b[39;00m\n\u001b[1;32m    369\u001b[0m \u001b[39m    be iterables as well and will be unpacked as arguments. Hence\u001b[39;00m\n\u001b[1;32m    370\u001b[0m \u001b[39m    `func` and (a, b) becomes func(a, b).\u001b[39;00m\n\u001b[1;32m    371\u001b[0m \u001b[39m    '''\u001b[39;00m\n\u001b[0;32m--> 372\u001b[0m     \u001b[39mreturn\u001b[39;00m \u001b[39mself\u001b[39;49m\u001b[39m.\u001b[39;49m_map_async(func, iterable, starmapstar, chunksize)\u001b[39m.\u001b[39;49mget()\n",
      "File \u001b[0;32m/usr/lib/python3.8/multiprocessing/pool.py:765\u001b[0m, in \u001b[0;36mApplyResult.get\u001b[0;34m(self, timeout)\u001b[0m\n\u001b[1;32m    764\u001b[0m \u001b[39mdef\u001b[39;00m \u001b[39mget\u001b[39m(\u001b[39mself\u001b[39m, timeout\u001b[39m=\u001b[39m\u001b[39mNone\u001b[39;00m):\n\u001b[0;32m--> 765\u001b[0m     \u001b[39mself\u001b[39;49m\u001b[39m.\u001b[39;49mwait(timeout)\n\u001b[1;32m    766\u001b[0m     \u001b[39mif\u001b[39;00m \u001b[39mnot\u001b[39;00m \u001b[39mself\u001b[39m\u001b[39m.\u001b[39mready():\n\u001b[1;32m    767\u001b[0m         \u001b[39mraise\u001b[39;00m \u001b[39mTimeoutError\u001b[39;00m\n",
      "File \u001b[0;32m/usr/lib/python3.8/multiprocessing/pool.py:762\u001b[0m, in \u001b[0;36mApplyResult.wait\u001b[0;34m(self, timeout)\u001b[0m\n\u001b[1;32m    761\u001b[0m \u001b[39mdef\u001b[39;00m \u001b[39mwait\u001b[39m(\u001b[39mself\u001b[39m, timeout\u001b[39m=\u001b[39m\u001b[39mNone\u001b[39;00m):\n\u001b[0;32m--> 762\u001b[0m     \u001b[39mself\u001b[39;49m\u001b[39m.\u001b[39;49m_event\u001b[39m.\u001b[39;49mwait(timeout)\n",
      "File \u001b[0;32m/usr/lib/python3.8/threading.py:558\u001b[0m, in \u001b[0;36mEvent.wait\u001b[0;34m(self, timeout)\u001b[0m\n\u001b[1;32m    556\u001b[0m signaled \u001b[39m=\u001b[39m \u001b[39mself\u001b[39m\u001b[39m.\u001b[39m_flag\n\u001b[1;32m    557\u001b[0m \u001b[39mif\u001b[39;00m \u001b[39mnot\u001b[39;00m signaled:\n\u001b[0;32m--> 558\u001b[0m     signaled \u001b[39m=\u001b[39m \u001b[39mself\u001b[39;49m\u001b[39m.\u001b[39;49m_cond\u001b[39m.\u001b[39;49mwait(timeout)\n\u001b[1;32m    559\u001b[0m \u001b[39mreturn\u001b[39;00m signaled\n",
      "File \u001b[0;32m/usr/lib/python3.8/threading.py:302\u001b[0m, in \u001b[0;36mCondition.wait\u001b[0;34m(self, timeout)\u001b[0m\n\u001b[1;32m    300\u001b[0m \u001b[39mtry\u001b[39;00m:    \u001b[39m# restore state no matter what (e.g., KeyboardInterrupt)\u001b[39;00m\n\u001b[1;32m    301\u001b[0m     \u001b[39mif\u001b[39;00m timeout \u001b[39mis\u001b[39;00m \u001b[39mNone\u001b[39;00m:\n\u001b[0;32m--> 302\u001b[0m         waiter\u001b[39m.\u001b[39;49macquire()\n\u001b[1;32m    303\u001b[0m         gotit \u001b[39m=\u001b[39m \u001b[39mTrue\u001b[39;00m\n\u001b[1;32m    304\u001b[0m     \u001b[39melse\u001b[39;00m:\n",
      "\u001b[0;31mKeyboardInterrupt\u001b[0m: "
     ]
    },
    {
     "name": "stderr",
     "output_type": "stream",
     "text": [
      "\n",
      "\n",
      "--> FOAM FATAL ERROR: \n",
      "cannot find file \"/home/alexesn/FOAM_project/heatExchanger/all_auto/case_7_19_0/system/controlDict\"\n",
      "\n",
      "    From function virtual Foam::autoPtr<Foam::ISstream> Foam::fileOperations::uncollatedFileOperation::readStream(Foam::regIOobject&, const Foam::fileName&, const Foam::word&, bool) const\n",
      "    in file global/fileOperations/uncollatedFileOperation/uncollatedFileOperation.C at line 539.\n",
      "\n",
      "FOAM exiting\n",
      "\n"
     ]
    }
   ],
   "source": [
    "# Создаем разделяемый словарь для сбора результатов от каждого процесса\n",
    "all_data=None\n",
    "with Manager() as manager:\n",
    "    all_data = manager.dict()\n",
    "\n",
    "    # Создаем список с возможными значениями\n",
    "    values = [i for i in range(min_value, max_value + step, step)]\n",
    "    # Получаем все возможные комбинации с повторениями из двух чисел\n",
    "    combinations_with_repeats = [(7, 19, 0)]\n",
    "\n",
    "    # Создаем и запускаем отдельный процесс для каждой комбинации\n",
    "    with Pool(core_num) as pool:\n",
    "        pool.starmap(run_simulation, [(s1, s2, s3, all_data)\n",
    "                     for s1, s2, s3 in combinations_with_repeats])\n",
    "        pool.join\n",
    "\n",
    "    # Выводим результаты из разделяемого словаря\n",
    "    print(all_data)\n",
    "    print(len(all_data))"
   ]
  }
 ],
 "metadata": {
  "kernelspec": {
   "display_name": "Python 3",
   "language": "python",
   "name": "python3"
  },
  "language_info": {
   "codemirror_mode": {
    "name": "ipython",
    "version": 3
   },
   "file_extension": ".py",
   "mimetype": "text/x-python",
   "name": "python",
   "nbconvert_exporter": "python",
   "pygments_lexer": "ipython3",
   "version": "3.8.10"
  }
 },
 "nbformat": 4,
 "nbformat_minor": 2
}
